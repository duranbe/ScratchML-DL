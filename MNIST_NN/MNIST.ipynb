{
 "cells": [
  {
   "cell_type": "code",
   "execution_count": 2,
   "metadata": {},
   "outputs": [],
   "source": [
    "import autograd.numpy as np\n",
    "from autograd import grad \n",
    "import os.path,requests\n",
    "import matplotlib.pyplot as plt"
   ]
  },
  {
   "cell_type": "markdown",
   "metadata": {},
   "source": [
    "https://www.youtube.com/watch?v=JRlyw6LO5qo"
   ]
  },
  {
   "cell_type": "code",
   "execution_count": 3,
   "metadata": {},
   "outputs": [],
   "source": [
    "def get_data(url):\n",
    "    if not os.path.isfile('data.npz'):\n",
    "        print(\"Downloading\")\n",
    "        r=requests.get(url).content\n",
    "        open('data.npz', 'wb').write(r)\n",
    "        \n",
    "        data = np.load('data.npz')\n",
    "        return(data)\n",
    "    else:\n",
    "        open('data.npz', 'rb')\n",
    "        data = np.load('data.npz')\n",
    "        return(data)\n",
    "    \n",
    "mnist = get_data('https://storage.googleapis.com/tensorflow/tf-keras-datasets/mnist.npz' )"
   ]
  },
  {
   "cell_type": "code",
   "execution_count": 4,
   "metadata": {},
   "outputs": [],
   "source": [
    "x_train = mnist['x_train'].reshape((-1,28*28))/255\n",
    "y_train = mnist['y_train']\n",
    "x_test = mnist['x_test'].reshape((-1,28*28))/255\n",
    "y_test = mnist['y_test']"
   ]
  },
  {
   "cell_type": "code",
   "execution_count": 5,
   "metadata": {},
   "outputs": [],
   "source": [
    "def one_hot(x):\n",
    "    #https://github.com/keras-team/keras/blob/2d183db0372e5ac2a686608cb9da0a9bd4319764/keras/utils/np_utils.py#L9\n",
    "    a=np.zeros((x.shape[0], np.max(x)+1), dtype=np.float32)\n",
    "    a[np.arange(x.shape[0]),x]=1\n",
    "    return(a)\n",
    "\n",
    "#https://machinelearningmastery.com/difference-between-a-batch-and-an-epoch/"
   ]
  },
  {
   "cell_type": "code",
   "execution_count": 6,
   "metadata": {},
   "outputs": [],
   "source": [
    "y_train=one_hot(y_train)\n",
    "y_test=one_hot(y_test)"
   ]
  },
  {
   "cell_type": "code",
   "execution_count": 7,
   "metadata": {
    "scrolled": false
   },
   "outputs": [
    {
     "data": {
      "text/plain": [
       "(60000, 784)"
      ]
     },
     "execution_count": 7,
     "metadata": {},
     "output_type": "execute_result"
    }
   ],
   "source": [
    "x_train.shape"
   ]
  },
  {
   "cell_type": "code",
   "execution_count": 8,
   "metadata": {},
   "outputs": [],
   "source": [
    "w1 = np.random.randn(784,128)*np.sqrt(2./784)\n",
    "w2 = np.random.randn(128,10)*np.sqrt(2./128)"
   ]
  },
  {
   "cell_type": "code",
   "execution_count": 9,
   "metadata": {},
   "outputs": [],
   "source": [
    "def relu(x):  \n",
    "    v=np.maximum(np.zeros((x.shape)),x)\n",
    "    return(v)"
   ]
  },
  {
   "cell_type": "code",
   "execution_count": 10,
   "metadata": {},
   "outputs": [],
   "source": [
    "def dense(x,w1,b=-1):\n",
    "    v=np.dot(x,w1) + b\n",
    "    return(v)"
   ]
  },
  {
   "cell_type": "code",
   "execution_count": 11,
   "metadata": {},
   "outputs": [],
   "source": [
    "def softmax(x):\n",
    "    #https://pytorch.org/docs/stable/generated/torch.nn.Softmax.html\n",
    "    #https://pytorch.org/docs/stable/generated/torch.nn.LogSoftmax.html\n",
    "    #https://github.com/keras-team/keras/blob/2d183db0372e5ac2a686608cb9da0a9bd4319764/keras/activations.py\n",
    "    #https://www.tensorflow.org/api_docs/python/tf/nn/softmax\n",
    "    #https://github.com/keras-team/keras/blob/2d183db0372e5ac2a686608cb9da0a9bd4319764/keras/backend/tensorflow_backend.py\n",
    "    probs = np.exp(x)/np.sum( np.exp(x), axis=-1,keepdims=True)\n",
    "    return(probs)"
   ]
  },
  {
   "cell_type": "code",
   "execution_count": 12,
   "metadata": {},
   "outputs": [],
   "source": [
    "def get_ypred(ypred):\n",
    "    \n",
    "    agmax = np.argmax(ypred,axis=-1)\n",
    "    \n",
    "    return(agmax)"
   ]
  },
  {
   "cell_type": "code",
   "execution_count": 13,
   "metadata": {
    "scrolled": true
   },
   "outputs": [
    {
     "data": {
      "text/plain": [
       "<matplotlib.image.AxesImage at 0x2263be6dec8>"
      ]
     },
     "execution_count": 13,
     "metadata": {},
     "output_type": "execute_result"
    },
    {
     "data": {
      "image/png": "[encoded data removed]",
      "text/plain": [
       "<Figure size 432x288 with 1 Axes>"
      ]
     },
     "metadata": {
      "needs_background": "light"
     },
     "output_type": "display_data"
    }
   ],
   "source": [
    "im=x_train[0].reshape(28,28)\n",
    "plt.imshow(im)"
   ]
  },
  {
   "cell_type": "code",
   "execution_count": 15,
   "metadata": {},
   "outputs": [],
   "source": [
    "\n",
    "def logsumexp(x):\n",
    "    #http://gregorygundersen.com/blog/2020/02/09/log-sum-exp/\n",
    "    c = np.max(x)\n",
    "    e = np.exp(x-c)\n",
    "    p = c + np.log(np.sum(e))\n",
    "    \n",
    "    return(p)\n",
    "    "
   ]
  },
  {
   "cell_type": "code",
   "execution_count": 14,
   "metadata": {},
   "outputs": [],
   "source": [
    "#https://peltarion.com/knowledge-center/documentation/modeling-view/build-an-ai-model/loss-functions/categorical-crossentropy\n",
    "def crossentropy(y,y_pred):\n",
    "    loss = np.sum(-1*y*np.log(y_pred))/y.shape[0]    \n",
    "    return(loss)"
   ]
  },
  {
   "cell_type": "code",
   "execution_count": 16,
   "metadata": {
    "scrolled": true
   },
   "outputs": [],
   "source": [
    "def model(x_train,params):\n",
    "    \n",
    "    w1,w2 = params \n",
    "\n",
    "    xd1 = dense(x_train,w1)\n",
    "    xd1_relu = relu(xd1)\n",
    "    xd2 = dense(xd1_relu,w2)\n",
    "    #xd2_smax = softmax(xd2)+0.001\n",
    "    xd2_smax = np.exp(xd2 - logsumexp(xd2))\n",
    "    \n",
    "    return(xd2_smax)"
   ]
  },
  {
   "cell_type": "code",
   "execution_count": 17,
   "metadata": {},
   "outputs": [],
   "source": [
    "def Optim(x_train,y_train,params):\n",
    "    \n",
    "    y_pred = model(x_train,params)\n",
    "    \n",
    "    cost = crossentropy(y_train,y_pred)\n",
    "    \n",
    "    return(cost)"
   ]
  },
  {
   "cell_type": "code",
   "execution_count": 18,
   "metadata": {},
   "outputs": [
    {
     "data": {
      "text/plain": [
       "6.915672828223263"
      ]
     },
     "execution_count": 18,
     "metadata": {},
     "output_type": "execute_result"
    }
   ],
   "source": [
    "Optim(x_train[0:100],y_train[0:100],[w1,w2])"
   ]
  },
  {
   "cell_type": "code",
   "execution_count": 19,
   "metadata": {},
   "outputs": [
    {
     "name": "stdout",
     "output_type": "stream",
     "text": [
      "0 / 10\n",
      "1 / 10\n",
      "2 / 10\n",
      "3 / 10\n",
      "4 / 10\n",
      "5 / 10\n",
      "6 / 10\n",
      "7 / 10\n",
      "8 / 10\n",
      "9 / 10\n"
     ]
    }
   ],
   "source": [
    "cost_fun = lambda params: Optim(x_train[0:10000],y_train[0:10000],params)\n",
    "deriv = grad(cost_fun)\n",
    "#https://fr.wikipedia.org/wiki/Gradient\n",
    "\n",
    "w1 = np.random.randn(784,128)*np.sqrt(2./784)\n",
    "w2 = np.random.randn(128,10)*np.sqrt(2./128)\n",
    "\n",
    "\n",
    "batch_size = 100 \n",
    "n_samples = x_train.shape[0]\n",
    "n_iter = n_samples//batch_size\n",
    "\n",
    "epochs = 10\n",
    "\n",
    "l = []\n",
    "acc = []\n",
    "\n",
    "for i in range(epochs):\n",
    "    print(i,'/',epochs)\n",
    "    for j in range(n_iter):\n",
    "        \n",
    "        start = j*batch_size\n",
    "        end = (j+1)*batch_size\n",
    "        \n",
    "        cost_fun = lambda params: Optim(x_train[start:end],y_train[start:end],params)\n",
    "        deriv = grad(cost_fun)\n",
    "        \n",
    "        \n",
    "        l.append(Optim(x_train[start:end],y_train[start:end],[w1,w2]))\n",
    "        acc.append(np.sum(np.argmax(model(x_test,[w1,w2]),axis=1)==np.argmax(y_test,axis=1))/100)\n",
    "\n",
    "        s = deriv([w1,w2])\n",
    "        w1 = w1 - 0.2*s[0]\n",
    "        w2 = w2 - 0.2*s[1]\n",
    "    "
   ]
  },
  {
   "cell_type": "code",
   "execution_count": 20,
   "metadata": {},
   "outputs": [
    {
     "data": {
      "text/plain": [
       "95.72"
      ]
     },
     "execution_count": 20,
     "metadata": {},
     "output_type": "execute_result"
    }
   ],
   "source": [
    "np.sum(np.argmax(model(x_test,[w1,w2]),axis=1)==np.argmax(y_test,axis=1))/100"
   ]
  },
  {
   "cell_type": "code",
   "execution_count": 21,
   "metadata": {},
   "outputs": [
    {
     "data": {
      "text/plain": [
       "6000"
      ]
     },
     "execution_count": 21,
     "metadata": {},
     "output_type": "execute_result"
    }
   ],
   "source": [
    "epochs*n_iter"
   ]
  },
  {
   "cell_type": "code",
   "execution_count": 22,
   "metadata": {},
   "outputs": [
    {
     "data": {
      "text/plain": [
       "[<matplotlib.lines.Line2D at 0x2263bfd58c8>]"
      ]
     },
     "execution_count": 22,
     "metadata": {},
     "output_type": "execute_result"
    },
    {
     "data": {
      "image/png": "[encoded data removed]",
      "text/plain": [
       "<Figure size 432x288 with 1 Axes>"
      ]
     },
     "metadata": {
      "needs_background": "light"
     },
     "output_type": "display_data"
    }
   ],
   "source": [
    "plt.plot(np.arange(epochs*n_iter),acc)"
   ]
  },
  {
   "cell_type": "code",
   "execution_count": 23,
   "metadata": {},
   "outputs": [
    {
     "data": {
      "text/plain": [
       "[<matplotlib.lines.Line2D at 0x2263c043788>]"
      ]
     },
     "execution_count": 23,
     "metadata": {},
     "output_type": "execute_result"
    },
    {
     "data": {
      "image/png": "[encoded data removed]",
      "text/plain": [
       "<Figure size 432x288 with 1 Axes>"
      ]
     },
     "metadata": {
      "needs_background": "light"
     },
     "output_type": "display_data"
    }
   ],
   "source": [
    "plt.plot(np.arange(epochs*n_iter),l)"
   ]
  },
  {
   "cell_type": "markdown",
   "metadata": {},
   "source": [
    "https://github.com/geohot/ai-notebooks/blob/master/mnist_from_scratch.ipynb\n",
    "\n",
    "https://github.com/HIPS/autograd/blob/master/autograd/misc/optimizers.py\n",
    "\n",
    "\n",
    "https://blog.feedly.com/tricks-of-the-trade-logsumexp/"
   ]
  },
  {
   "cell_type": "code",
   "execution_count": 24,
   "metadata": {},
   "outputs": [],
   "source": [
    "# Backprop\n",
    "#https://math.stackexchange.com/questions/945871/derivative-of-softmax-loss-function\n",
    "#1) Loss\n",
    "#2) Softmax/LogSoftmax\n",
    "#3) Relu 2 / W\n",
    "#4) Reli1 / W"
   ]
  }
 ],
 "metadata": {
  "kernelspec": {
   "display_name": "Python 3",
   "language": "python",
   "name": "python3"
  },
  "language_info": {
   "codemirror_mode": {
    "name": "ipython",
    "version": 3
   },
   "file_extension": ".py",
   "mimetype": "text/x-python",
   "name": "python",
   "nbconvert_exporter": "python",
   "pygments_lexer": "ipython3",
   "version": "3.7.4"
  }
 },
 "nbformat": 4,
 "nbformat_minor": 4
}
